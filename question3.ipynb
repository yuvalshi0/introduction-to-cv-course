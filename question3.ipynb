{
 "cells": [
  {
   "cell_type": "markdown",
   "metadata": {},
   "source": [
    "Yuval Shimon   \n",
    "Maman 11 - Question 3"
   ]
  },
  {
   "cell_type": "code",
   "execution_count": 35,
   "metadata": {},
   "outputs": [],
   "source": [
    "# imports\n",
    "import numpy as np\n",
    "import numpy.linalg as LA\n",
    "import matplotlib.pyplot as plt"
   ]
  },
  {
   "cell_type": "code",
   "execution_count": 36,
   "metadata": {},
   "outputs": [
    {
     "data": {
      "image/png": "[encoded data removed]",
      "text/plain": [
       "<Figure size 432x288 with 2 Axes>"
      ]
     },
     "metadata": {
      "needs_background": "light"
     },
     "output_type": "display_data"
    }
   ],
   "source": [
    "P2 = np.array(\n",
    "    [\n",
    "        (1.1, 1.4),\n",
    "        (1.5, 2.1),\n",
    "        (1, 1.6),\n",
    "        (2, 2.1),\n",
    "        (2.3, 3.2),\n",
    "        (3.1, 3.5),\n",
    "        (1.9, 2.7),\n",
    "        (2.2, 3.4),\n",
    "        (0.5, 1.2),\n",
    "        (2.5, 2.9),\n",
    "    ]\n",
    ")\n",
    "orig_x = P2[:, 0]\n",
    "orig_y = P2[:, 1]\n",
    "M = np.mean(P2.T, axis=1)  # calculate mean\n",
    "X = P2 - M  # subtract mean from each column\n",
    "St = np.cov(X.T)  # calculate St by calculating the covariance\n",
    "values, vectors = LA.eig(St)  # calculate eigenvalues values and vectors\n",
    "Wopt = vectors[\n",
    "    :, np.argmax(values)\n",
    "]  # since we want 1d line, we take the eigenvector of the larget eigenvalue\n",
    "P = np.matrix(Wopt.T.dot(X.T))  # get PCA points\n",
    "Pr = (P.T * Wopt) + M  # restore points\n",
    "x = np.asarray(Pr[:, 0])  # back to array\n",
    "y = np.asarray(Pr[:, 1])\n",
    "plt.subplot(121)  # plot after PCA\n",
    "plt.scatter(x, y)\n",
    "plt.title(\"Points after PCA\")\n",
    "\n",
    "plt.subplot(122)  # plot original points\n",
    "plt.scatter(orig_x, orig_y)\n",
    "plt.title(\"Original Points\")\n",
    "plt.show()"
   ]
  }
 ],
 "metadata": {
  "interpreter": {
   "hash": "2a83c9d88e12a865426578e8b8fef503bececa40c734935a4ae0fc0ea4ec0823"
  },
  "kernelspec": {
   "display_name": "Python 3.7.1 64-bit ('cv-venv': venv)",
   "name": "python3"
  },
  "language_info": {
   "codemirror_mode": {
    "name": "ipython",
    "version": 3
   },
   "file_extension": ".py",
   "mimetype": "text/x-python",
   "name": "python",
   "nbconvert_exporter": "python",
   "pygments_lexer": "ipython3",
   "version": "3.7.1"
  },
  "orig_nbformat": 4
 },
 "nbformat": 4,
 "nbformat_minor": 2
}
