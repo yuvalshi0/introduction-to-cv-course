{
 "cells": [
  {
   "cell_type": "markdown",
   "metadata": {},
   "source": [
    "# Model Prediction Process\n",
    "* Preprocess the test dataset\n",
    "* Predict \n",
    "* Save results to csv"
   ]
  },
  {
   "cell_type": "markdown",
   "metadata": {},
   "source": [
    "################################################ Imports & Constants ####################################"
   ]
  },
  {
   "cell_type": "code",
   "execution_count": null,
   "metadata": {},
   "outputs": [],
   "source": [
    "import os\n",
    "from config import config\n",
    "\n",
    "CODA_DLL_PATH = config[\"preprocessing\"][\"coda_dll_path\"]\n",
    "H5_FILE = config[\"main\"][\"h5_file\"]\n",
    "CLASSES = config.get_classes()\n",
    "IMG_SIZE = int(config[\"main\"][\"img_size\"])\n",
    "\n",
    "os.add_dll_directory(\n",
    "    CODA_DLL_PATH\n",
    ")  # https://github.com/tensorflow/tensorflow/issues/48868#issuecomment-841396124\n",
    "\n",
    "import tensorflow as tf\n",
    "import numpy as np\n",
    "\n",
    "import vote\n",
    "import results\n",
    "import preprocessing\n"
   ]
  },
  {
   "cell_type": "markdown",
   "metadata": {},
   "source": [
    "#####################################################################################################"
   ]
  },
  {
   "cell_type": "code",
   "execution_count": null,
   "metadata": {},
   "outputs": [],
   "source": [
    "TEST_H5_FILE = \"SynthText_test.h5\"\n",
    "X = preprocessing.load_unlabeled_dataset(TEST_H5_FILE)\n",
    "X.head()"
   ]
  },
  {
   "cell_type": "markdown",
   "metadata": {},
   "source": [
    "#### Normalize & prepare dataset"
   ]
  },
  {
   "cell_type": "code",
   "execution_count": null,
   "metadata": {},
   "outputs": [],
   "source": [
    "x_norm = np.array(X[\"img\"].to_list(), dtype=np.float32)/255"
   ]
  },
  {
   "cell_type": "markdown",
   "metadata": {},
   "source": [
    "#### Load model & predict"
   ]
  },
  {
   "cell_type": "code",
   "execution_count": null,
   "metadata": {},
   "outputs": [],
   "source": [
    "FINAL_MODEL = \"final_model.h5\"\n",
    "model = tf.keras.models.load_model(FINAL_MODEL)\n",
    "model.summary()"
   ]
  },
  {
   "cell_type": "code",
   "execution_count": null,
   "metadata": {},
   "outputs": [],
   "source": [
    "# predict & fix prediction by votes\n",
    "y_pred = model.predict(x_norm)"
   ]
  },
  {
   "cell_type": "markdown",
   "metadata": {},
   "source": [
    "#### Fix predictions with voting & save to CSV"
   ]
  },
  {
   "cell_type": "code",
   "execution_count": null,
   "metadata": {},
   "outputs": [],
   "source": [
    "y_pred_after_votes = vote.vote(X, y_pred)\n",
    "# save to csv\n",
    "results.to_csv(X, y_pred_after_votes, csv_file=\"results.csv\")\n"
   ]
  }
 ],
 "metadata": {
  "interpreter": {
   "hash": "81c34f1291c1b40d602ddc607e03da504a8c7b7a9d49a3a320ebd0e5f37bfa0f"
  },
  "kernelspec": {
   "display_name": "Python 3.9.9 64-bit ('.venv': venv)",
   "language": "python",
   "name": "python3"
  },
  "language_info": {
   "codemirror_mode": {
    "name": "ipython",
    "version": 3
   },
   "file_extension": ".py",
   "mimetype": "text/x-python",
   "name": "python",
   "nbconvert_exporter": "python",
   "pygments_lexer": "ipython3",
   "version": "3.9.9"
  },
  "orig_nbformat": 4
 },
 "nbformat": 4,
 "nbformat_minor": 2
}
