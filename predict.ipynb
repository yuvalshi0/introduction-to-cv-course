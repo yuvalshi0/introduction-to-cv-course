{
 "cells": [
  {
   "cell_type": "markdown",
   "metadata": {},
   "source": [
    "# Model Prediction Process\n",
    "* Preprocess the test dataset\n",
    "* Predict \n",
    "* Save results to csv"
   ]
  },
  {
   "cell_type": "markdown",
   "metadata": {},
   "source": [
    "################################################ Imports & Constants ####################################"
   ]
  },
  {
   "cell_type": "code",
   "execution_count": 1,
   "metadata": {},
   "outputs": [],
   "source": [
    "import os\n",
    "from config import config\n",
    "\n",
    "CODA_DLL_PATH = config[\"preprocessing\"][\"coda_dll_path\"]\n",
    "H5_FILE = config[\"main\"][\"h5_file\"]\n",
    "CLASSES = config.get_classes()\n",
    "IMG_SIZE = int(config[\"main\"][\"img_size\"])\n",
    "\n",
    "os.add_dll_directory(\n",
    "    CODA_DLL_PATH\n",
    ")  # https://github.com/tensorflow/tensorflow/issues/48868#issuecomment-841396124\n",
    "\n",
    "import numpy as np\n",
    "import tensorflow as tf\n",
    "\n",
    "import preprocessing\n",
    "import results\n",
    "import vote"
   ]
  },
  {
   "cell_type": "markdown",
   "metadata": {},
   "source": [
    "#####################################################################################################"
   ]
  },
  {
   "cell_type": "code",
   "execution_count": 2,
   "metadata": {},
   "outputs": [
    {
     "name": "stdout",
     "output_type": "stream",
     "text": [
      "[07:09:31] Creating unlabeled dataset started [h5_file=SynthText_test.h5]\n",
      "[07:21:25] Function 'load_unlabeled_dataset' executed in 713.7733s\n"
     ]
    },
    {
     "data": {
      "text/html": [
       "<div>\n",
       "<style scoped>\n",
       "    .dataframe tbody tr th:only-of-type {\n",
       "        vertical-align: middle;\n",
       "    }\n",
       "\n",
       "    .dataframe tbody tr th {\n",
       "        vertical-align: top;\n",
       "    }\n",
       "\n",
       "    .dataframe thead th {\n",
       "        text-align: right;\n",
       "    }\n",
       "</style>\n",
       "<table border=\"1\" class=\"dataframe\">\n",
       "  <thead>\n",
       "    <tr style=\"text-align: right;\">\n",
       "      <th></th>\n",
       "      <th>img</th>\n",
       "      <th>char</th>\n",
       "      <th>word</th>\n",
       "      <th>img_name</th>\n",
       "    </tr>\n",
       "  </thead>\n",
       "  <tbody>\n",
       "    <tr>\n",
       "      <th>0</th>\n",
       "      <td>[[[105, 74, 57], [105, 74, 57], [105, 74, 57],...</td>\n",
       "      <td>s</td>\n",
       "      <td>say.</td>\n",
       "      <td>ant+hill_102.jpg_0</td>\n",
       "    </tr>\n",
       "    <tr>\n",
       "      <th>1</th>\n",
       "      <td>[[[124, 91, 68], [124, 91, 68], [124, 91, 68],...</td>\n",
       "      <td>a</td>\n",
       "      <td>say.</td>\n",
       "      <td>ant+hill_102.jpg_0</td>\n",
       "    </tr>\n",
       "    <tr>\n",
       "      <th>2</th>\n",
       "      <td>[[[123, 83, 62], [123, 83, 62], [123, 83, 62],...</td>\n",
       "      <td>y</td>\n",
       "      <td>say.</td>\n",
       "      <td>ant+hill_102.jpg_0</td>\n",
       "    </tr>\n",
       "    <tr>\n",
       "      <th>3</th>\n",
       "      <td>[[[128, 68, 47], [128, 68, 47], [128, 68, 47],...</td>\n",
       "      <td>.</td>\n",
       "      <td>say.</td>\n",
       "      <td>ant+hill_102.jpg_0</td>\n",
       "    </tr>\n",
       "    <tr>\n",
       "      <th>4</th>\n",
       "      <td>[[[183, 168, 151], [183, 168, 151], [183, 168,...</td>\n",
       "      <td>W</td>\n",
       "      <td>WPG</td>\n",
       "      <td>ant+hill_102.jpg_0</td>\n",
       "    </tr>\n",
       "  </tbody>\n",
       "</table>\n",
       "</div>"
      ],
      "text/plain": [
       "                                                 img char  word  \\\n",
       "0  [[[105, 74, 57], [105, 74, 57], [105, 74, 57],...    s  say.   \n",
       "1  [[[124, 91, 68], [124, 91, 68], [124, 91, 68],...    a  say.   \n",
       "2  [[[123, 83, 62], [123, 83, 62], [123, 83, 62],...    y  say.   \n",
       "3  [[[128, 68, 47], [128, 68, 47], [128, 68, 47],...    .  say.   \n",
       "4  [[[183, 168, 151], [183, 168, 151], [183, 168,...    W   WPG   \n",
       "\n",
       "             img_name  \n",
       "0  ant+hill_102.jpg_0  \n",
       "1  ant+hill_102.jpg_0  \n",
       "2  ant+hill_102.jpg_0  \n",
       "3  ant+hill_102.jpg_0  \n",
       "4  ant+hill_102.jpg_0  "
      ]
     },
     "execution_count": 2,
     "metadata": {},
     "output_type": "execute_result"
    }
   ],
   "source": [
    "TEST_H5_FILE = \"SynthText_test.h5\"\n",
    "X = preprocessing.load_unlabeled_dataset(TEST_H5_FILE)\n",
    "X.head()"
   ]
  },
  {
   "cell_type": "markdown",
   "metadata": {},
   "source": [
    "#### Normalize & prepare dataset"
   ]
  },
  {
   "cell_type": "code",
   "execution_count": 3,
   "metadata": {},
   "outputs": [],
   "source": [
    "x_norm = np.array(X[\"img\"].to_list(), dtype=np.float32) / 255"
   ]
  },
  {
   "cell_type": "markdown",
   "metadata": {},
   "source": [
    "#### Load model & predict"
   ]
  },
  {
   "cell_type": "code",
   "execution_count": 4,
   "metadata": {},
   "outputs": [
    {
     "name": "stdout",
     "output_type": "stream",
     "text": [
      "Model: \"sequential\"\n",
      "_________________________________________________________________\n",
      " Layer (type)                Output Shape              Param #   \n",
      "=================================================================\n",
      " vgg16 (Functional)          (None, 512)               14714688  \n",
      "                                                                 \n",
      " flatten (Flatten)           (None, 512)               0         \n",
      "                                                                 \n",
      " batch_normalization (BatchN  (None, 512)              2048      \n",
      " ormalization)                                                   \n",
      "                                                                 \n",
      " dense (Dense)               (None, 4096)              2101248   \n",
      "                                                                 \n",
      " batch_normalization_1 (Batc  (None, 4096)             16384     \n",
      " hNormalization)                                                 \n",
      "                                                                 \n",
      " dropout (Dropout)           (None, 4096)              0         \n",
      "                                                                 \n",
      " dense_1 (Dense)             (None, 4096)              16781312  \n",
      "                                                                 \n",
      " batch_normalization_2 (Batc  (None, 4096)             16384     \n",
      " hNormalization)                                                 \n",
      "                                                                 \n",
      " dropout_1 (Dropout)         (None, 4096)              0         \n",
      "                                                                 \n",
      " dense_2 (Dense)             (None, 128)               524416    \n",
      "                                                                 \n",
      " dense_3 (Dense)             (None, 7)                 903       \n",
      "                                                                 \n",
      "=================================================================\n",
      "Total params: 34,157,383\n",
      "Trainable params: 34,139,975\n",
      "Non-trainable params: 17,408\n",
      "_________________________________________________________________\n"
     ]
    }
   ],
   "source": [
    "FINAL_MODEL = \"final_model.h5\"\n",
    "model = tf.keras.models.load_model(FINAL_MODEL)\n",
    "model.summary()"
   ]
  },
  {
   "cell_type": "code",
   "execution_count": 5,
   "metadata": {},
   "outputs": [],
   "source": [
    "# predict & fix prediction by votes\n",
    "y_pred = model.predict(x_norm)"
   ]
  },
  {
   "cell_type": "markdown",
   "metadata": {},
   "source": [
    "#### Fix predictions with voting & save to CSV"
   ]
  },
  {
   "cell_type": "code",
   "execution_count": 9,
   "metadata": {},
   "outputs": [],
   "source": [
    "y_pred_after_votes = vote.vote(X, y_pred)\n",
    "# save to csv\n",
    "results.to_csv(X, y_pred_after_votes, csv_file=\"results.csv\")"
   ]
  },
  {
   "cell_type": "code",
   "execution_count": 10,
   "metadata": {},
   "outputs": [
    {
     "data": {
      "text/plain": [
       "array([3, 3, 3, ..., 3, 3, 3], dtype=int64)"
      ]
     },
     "execution_count": 10,
     "metadata": {},
     "output_type": "execute_result"
    }
   ],
   "source": [
    "np.argmax(y_pred_after_votes, axis=1)"
   ]
  }
 ],
 "metadata": {
  "interpreter": {
   "hash": "81c34f1291c1b40d602ddc607e03da504a8c7b7a9d49a3a320ebd0e5f37bfa0f"
  },
  "kernelspec": {
   "display_name": "Python 3.9.9 64-bit ('.venv': venv)",
   "language": "python",
   "name": "python3"
  },
  "language_info": {
   "codemirror_mode": {
    "name": "ipython",
    "version": 3
   },
   "file_extension": ".py",
   "mimetype": "text/x-python",
   "name": "python",
   "nbconvert_exporter": "python",
   "pygments_lexer": "ipython3",
   "version": "3.9.9"
  },
  "orig_nbformat": 4
 },
 "nbformat": 4,
 "nbformat_minor": 2
}
