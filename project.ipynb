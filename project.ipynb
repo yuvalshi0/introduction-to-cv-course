{
 "cells": [
  {
   "cell_type": "code",
   "execution_count": 1,
   "metadata": {},
   "outputs": [
    {
     "name": "stdout",
     "output_type": "stream",
     "text": [
      "[17:55:54] Create dataset started [h5_file=SynthText.h5]\n"
     ]
    }
   ],
   "source": [
    "import os\n",
    "from config import config\n",
    "\n",
    "CODA_DLL_PATH = config[\"preprocessing\"][\"coda_dll_path\"]\n",
    "H5_FILE = config[\"main\"][\"h5_file\"]\n",
    "CLASSES = config.get_classes()\n",
    "IMG_SIZE = int(config[\"main\"][\"img_size\"])\n",
    "\n",
    "os.add_dll_directory(\n",
    "    CODA_DLL_PATH\n",
    ")  # https://github.com/tensorflow/tensorflow/issues/48868#issuecomment-841396124\n",
    "\n",
    "\n",
    "\n",
    "import preprocessing\n",
    "from plogging import logger\n",
    "\n",
    "orig_dataset = preprocessing.create_dataset(H5_FILE, rotation=True, augment=True, augment_cycles=30, save=True)\n",
    "dataset = orig_dataset.copy()\n",
    "\n",
    "logger.info(CLASSES)\n",
    "logger.info(dataset[\"font\"].value_counts())\n",
    "logger.info(dataset.head())"
   ]
  },
  {
   "cell_type": "code",
   "execution_count": null,
   "metadata": {},
   "outputs": [],
   "source": [
    "# load additional datasets\n",
    "# import pandas as pd\n",
    "\n",
    "# DATASETS = [\"generated_1641113062.h5\"]\n",
    "# a_dataset = pd.DataFrame()\n",
    "# for file_ in DATASETS:\n",
    "#     dataset_ = pd.read_hdf(file_)\n",
    "#     a_dataset = pd.concat([a_dataset, dataset_])\n",
    "# dataset = pd.concat([dataset, a_dataset])\n",
    "# logger.info(\"With additional datasets:\")\n",
    "# logger.info(dataset[\"font\"].value_counts())"
   ]
  },
  {
   "cell_type": "code",
   "execution_count": null,
   "metadata": {},
   "outputs": [],
   "source": [
    "# add additional images\n",
    "\n",
    "dataset = dataset.sample(frac=1).reset_index(drop=True) # shuffle"
   ]
  },
  {
   "cell_type": "code",
   "execution_count": null,
   "metadata": {},
   "outputs": [],
   "source": [
    "import numpy as np\n",
    "import tensorflow as tf\n",
    "\n",
    "X = dataset.drop(columns=[\"font\"])\n",
    "Y = np.array(dataset[\"font\"].apply(lambda s : CLASSES.index(s)))\n",
    "\n",
    "CAT_CLASSES = tf.keras.utils.to_categorical(np.unique(Y))\n",
    "\n",
    "f_ = lambda i : CAT_CLASSES[i]\n",
    "\n",
    "Y = f_(Y)\n"
   ]
  },
  {
   "cell_type": "code",
   "execution_count": null,
   "metadata": {},
   "outputs": [],
   "source": [
    "import metrics\n",
    "import vote\n",
    "\n",
    "def log_stats(y_test, y_pred):\n",
    "    recall = tf.keras.metrics.Recall()\n",
    "    recall.update_state(y_test, y_pred)\n",
    "    precision = tf.keras.metrics.Precision()\n",
    "    precision.update_state(y_test, y_pred)\n",
    "    auc = tf.keras.metrics.AUC()\n",
    "    auc.update_state(y_test, y_pred)\n",
    "    acc = tf.keras.metrics.CategoricalAccuracy()\n",
    "    acc.update_state(y_test, y_pred)\n",
    "\n",
    "    print(f\"Accuracy: {acc.result().numpy()}\")\n",
    "    print(f\"Recall: {recall.result().numpy()}\")\n",
    "    print(f\"Precision: {precision.result().numpy()}\")\n",
    "    print(f\"AUC: {auc.result().numpy()}\")\n",
    "\n",
    "def eval_model(history,x_test, y_test, y_pred, classes, save=True):\n",
    "    logger.info(\"Model stats:\")\n",
    "    metrics.plot_acc(history, save=save)\n",
    "    metrics.plot_loss(history, save=save)\n",
    "    \n",
    "    \n",
    "    log_stats(y_test, y_pred)\n",
    "    metrics.plot_roc(y_test, y_pred, CLASSES, zoom=False, save=save)\n",
    "    metrics.plot_confusion_matrix(y_test, y_pred, classes, save=save)\n",
    "    \n",
    "    y_pred_ = vote.vote(x_test, y_pred)\n",
    "    log_stats(y_test, y_pred_)\n",
    "    metrics.plot_roc(y_test, y_pred_, CLASSES, zoom=False, save=save)\n",
    "    metrics.plot_confusion_matrix(y_test, y_pred_, classes, save=save)\n",
    "    return y_pred_\n",
    "\n",
    "\n",
    "\n"
   ]
  },
  {
   "cell_type": "code",
   "execution_count": null,
   "metadata": {},
   "outputs": [],
   "source": [
    "from sklearn.model_selection import train_test_split\n",
    "from tensorflow.keras.models import Sequential\n",
    "\n",
    "x_train, x_test, y_train, y_test = train_test_split(X, Y, random_state=0, test_size=0.1)\n",
    "#metrics_ = ['accuracy', tf.keras.metrics.CategoricalAccuracy(), tf.keras.metrics.Precision(), tf.keras.metrics.Recall(), tf.keras.metrics.AUC()] #interesting metrics\n",
    "metrics_ = [\"accuracy\"]\n",
    "\n",
    "x_train_norm = np.array(x_train[\"img\"].to_list())/255 # normalize\n",
    "x_test_norm = np.array(x_test[\"img\"].to_list())/255 # normalize\n",
    "\n",
    "logger.info(f\"Train samples size [x_train={len(x_train)}, x_test={len(x_test)}]\")\n",
    "\n",
    "callbacks = [tf.keras.callbacks.EarlyStopping(monitor='val_accuracy', patience=5)]\n",
    "\n",
    "model = Sequential([\n",
    "    tf.keras.layers.Conv2D(32, (3,3), activation='relu', input_shape=(IMG_SIZE, IMG_SIZE, 1)),\n",
    "    tf.keras.layers.Conv2D(32, (3,3), activation='relu'),\n",
    "    tf.keras.layers.BatchNormalization(),\n",
    "    tf.keras.layers.MaxPooling2D((2,2)),\n",
    "    tf.keras.layers.Conv2D(64, (3,3), activation='relu'),\n",
    "    tf.keras.layers.Conv2D(64, (3,3), activation='relu'),\n",
    "    tf.keras.layers.MaxPooling2D((2,2)),\n",
    "    tf.keras.layers.Flatten(),\n",
    "    tf.keras.layers.BatchNormalization(),\n",
    "    tf.keras.layers.Dense(512, activation='relu'),\n",
    "    tf.keras.layers.Dense(256, activation='relu'),\n",
    "    tf.keras.layers.Dense(128, activation='relu'),\n",
    "    tf.keras.layers.Dense(64, activation='relu'),\n",
    "    tf.keras.layers.Dense(32, activation='relu'),\n",
    "    tf.keras.layers.Dense(7, activation='softmax')\n",
    "])\n",
    "\n",
    "model.compile(optimizer='adam', metrics=metrics_, loss='categorical_crossentropy')\n",
    "model.summary()\n",
    "history = model.fit(x_train_norm, y_train, epochs=25, validation_data=(x_test_norm, y_test), verbose=1, callbacks=callbacks)\n",
    "y_pred = model.predict(x_test_norm)\n"
   ]
  },
  {
   "cell_type": "code",
   "execution_count": null,
   "metadata": {},
   "outputs": [],
   "source": [
    "y_pred_ = eval_model(history,x_test,y_test, y_pred, CLASSES, save=True)"
   ]
  },
  {
   "cell_type": "code",
   "execution_count": null,
   "metadata": {},
   "outputs": [],
   "source": [
    "# plots a sample of model errors\n",
    "import matplotlib.pyplot as plt\n",
    "\n",
    "predict = np.argmax(y_pred_, axis=1)\n",
    "true_y_val = np.argmax(y_test, axis=1)\n",
    "errors = np.flatnonzero(predict != true_y_val)\n",
    "c_generated = 0\n",
    "\n",
    "for i in np.random.choice(errors, 10):\n",
    "    x_ = x_test.iloc[i, :]\n",
    "    plt.imshow(x_[\"img\"], cmap=\"gray\")\n",
    "    plt.show()\n",
    "    logger.info(\"Char: {}\".format(x_[\"char\"]))\n",
    "    logger.info(\"Image: {}\".format(x_[\"img_name\"]))\n",
    "    logger.info(\"Predicted label: {}\".format(CLASSES[predict[i]]))\n",
    "    logger.info(\"True label: {}\".format(CLASSES[true_y_val[i]]))"
   ]
  }
 ],
 "metadata": {
  "interpreter": {
   "hash": "81c34f1291c1b40d602ddc607e03da504a8c7b7a9d49a3a320ebd0e5f37bfa0f"
  },
  "kernelspec": {
   "display_name": "Python 3.9.9 64-bit ('.venv': venv)",
   "language": "python",
   "name": "python3"
  },
  "language_info": {
   "codemirror_mode": {
    "name": "ipython",
    "version": 3
   },
   "file_extension": ".py",
   "mimetype": "text/x-python",
   "name": "python",
   "nbconvert_exporter": "python",
   "pygments_lexer": "ipython3",
   "version": "3.9.9"
  },
  "orig_nbformat": 4
 },
 "nbformat": 4,
 "nbformat_minor": 2
}
